{
 "cells": [
  {
   "cell_type": "markdown",
   "id": "65b1f045-1a25-48ed-9cd5-cf3739e67bf6",
   "metadata": {},
   "source": [
    "# Exploratory Analysis"
   ]
  },
  {
   "cell_type": "code",
   "execution_count": 2,
   "id": "e8f38957-dba4-4166-bb31-1953329da127",
   "metadata": {},
   "outputs": [],
   "source": [
    "import pandas as pd\n",
    "import sqlite3\n",
    "\n",
    "conn = sqlite3.connect(r\"C:\\Users\\adama\\Desktop\\PROJECTS\\Project_1_superstore\\DB\\superstore.db\")\n",
    "cursor = conn.cursor()\n",
    "\n",
    "superstore = r\"C:\\Users\\adama\\Desktop\\PROJECTS\\Project_1_superstore\\Data Source\\superstoreproject.csv\"\n",
    "df = pd.read_csv(superstore, sep=\";\", encoding=\"latin1\")\n",
    "\n",
    "def rename_columns(column_list):\n",
    "    new_columns ={}\n",
    "    for i in column_list:\n",
    "        new_value = i.lower().replace(' ' ,'_').replace('-' , '_')\n",
    "        new_columns[i] = new_value\n",
    "    return new_columns\n",
    "\n",
    "new_columns = rename_columns(df.columns)\n",
    "        \n",
    "df.rename(columns=new_columns, inplace=True)"
   ]
  },
  {
   "cell_type": "markdown",
   "id": "110b60e3-fc49-4268-9c49-450a3a86939c",
   "metadata": {},
   "source": [
    "## Create Table"
   ]
  },
  {
   "cell_type": "code",
   "execution_count": null,
   "id": "bdafec8d-206c-4091-9a94-05f95cfba044",
   "metadata": {},
   "outputs": [],
   "source": [
    "cursor.execute('''\n",
    "    create table sales_raw (\n",
    "        'Row_ID' int primary key ,\n",
    "        'Order_ID' string ,\n",
    "        'Order_Date' string ,\n",
    "        'Ship_Date' string ,\n",
    "        'Ship_Mode' string ,\n",
    "        'Customer_ID' string ,\n",
    "        'Customer_Name' string ,\n",
    "        'Segment' string ,\n",
    "        'County' string ,\n",
    "        'City' string ,\n",
    "        'State' string ,\n",
    "        'Postal_Code' string ,\n",
    "        'Region' string ,\n",
    "        'Product_ID' string ,\n",
    "        'Category' string ,\n",
    "        'Subcategory' string ,\n",
    "        'Product_Name' string ,\n",
    "        'Sales' string,\n",
    "        'Quantity' int ,\n",
    "        'Discount' string ,\n",
    "        'Profit' string\n",
    "        )\n",
    "        '''.lower())"
   ]
  },
  {
   "cell_type": "markdown",
   "id": "c64d76b3-a44f-48de-b8bc-06fdff16dc93",
   "metadata": {},
   "source": [
    "## Write Data Frame to SQLite"
   ]
  },
  {
   "cell_type": "code",
   "execution_count": 3,
   "id": "ce4ed3fa-7ebc-4ec6-a178-ea4f994f72ba",
   "metadata": {},
   "outputs": [],
   "source": [
    "df.to_sql(name='sales_raw' , con=conn , if_exists='replace', index=False)"
   ]
  },
  {
   "cell_type": "markdown",
   "id": "68862e11-2f03-4d44-880b-7e269ffbe441",
   "metadata": {},
   "source": [
    "## Top Ten Customer by Sales"
   ]
  },
  {
   "cell_type": "code",
   "execution_count": 3,
   "id": "142d4793-be83-4643-9ab3-70304f612564",
   "metadata": {},
   "outputs": [
    {
     "data": {
      "text/plain": [
       "(        customer_name  sum_sales\n",
       " 0         Sean Miller    25035.0\n",
       " 1        Tamara Chand    19046.0\n",
       " 2        Raymond Buch    15107.0\n",
       " 3        Tom Ashbrook    14589.0\n",
       " 4       Adrian Barton    14460.0\n",
       " 5        Ken Lonsdale    14157.0\n",
       " 6        Sanjit Chand    14127.0\n",
       " 7        Hunter Lopez    12865.0\n",
       " 8        Sanjit Engle    12198.0\n",
       " 9  Christopher Conant    12122.0,)"
      ]
     },
     "execution_count": 3,
     "metadata": {},
     "output_type": "execute_result"
    }
   ],
   "source": [
    "pd.read_sql(sql=\n",
    "            '''SELECT customer_name, SUM(sales) as sum_sales \n",
    "            FROM sales_raw \n",
    "            GROUP BY customer_name\n",
    "            ORDER BY sum_sales DESC;\n",
    "            ''', con=conn).head(10),"
   ]
  },
  {
   "cell_type": "markdown",
   "id": "b73a661f-5092-4d57-b6cc-5f2a1a92a5ce",
   "metadata": {},
   "source": [
    "## Top Twenty Customer by Sales in Percentage"
   ]
  },
  {
   "cell_type": "code",
   "execution_count": 4,
   "id": "b4037a49-6dbb-4616-b82d-2321f7be47ca",
   "metadata": {},
   "outputs": [
    {
     "data": {
      "text/html": [
       "<div>\n",
       "<style scoped>\n",
       "    .dataframe tbody tr th:only-of-type {\n",
       "        vertical-align: middle;\n",
       "    }\n",
       "\n",
       "    .dataframe tbody tr th {\n",
       "        vertical-align: top;\n",
       "    }\n",
       "\n",
       "    .dataframe thead th {\n",
       "        text-align: right;\n",
       "    }\n",
       "</style>\n",
       "<table border=\"1\" class=\"dataframe\">\n",
       "  <thead>\n",
       "    <tr style=\"text-align: right;\">\n",
       "      <th></th>\n",
       "      <th>customer_name</th>\n",
       "      <th>percentage</th>\n",
       "    </tr>\n",
       "  </thead>\n",
       "  <tbody>\n",
       "    <tr>\n",
       "      <th>0</th>\n",
       "      <td>Sean Miller</td>\n",
       "      <td>1.09</td>\n",
       "    </tr>\n",
       "    <tr>\n",
       "      <th>1</th>\n",
       "      <td>Tamara Chand</td>\n",
       "      <td>0.83</td>\n",
       "    </tr>\n",
       "    <tr>\n",
       "      <th>2</th>\n",
       "      <td>Raymond Buch</td>\n",
       "      <td>0.66</td>\n",
       "    </tr>\n",
       "    <tr>\n",
       "      <th>3</th>\n",
       "      <td>Tom Ashbrook</td>\n",
       "      <td>0.64</td>\n",
       "    </tr>\n",
       "    <tr>\n",
       "      <th>4</th>\n",
       "      <td>Adrian Barton</td>\n",
       "      <td>0.63</td>\n",
       "    </tr>\n",
       "    <tr>\n",
       "      <th>5</th>\n",
       "      <td>Sanjit Chand</td>\n",
       "      <td>0.62</td>\n",
       "    </tr>\n",
       "    <tr>\n",
       "      <th>6</th>\n",
       "      <td>Ken Lonsdale</td>\n",
       "      <td>0.62</td>\n",
       "    </tr>\n",
       "    <tr>\n",
       "      <th>7</th>\n",
       "      <td>Hunter Lopez</td>\n",
       "      <td>0.56</td>\n",
       "    </tr>\n",
       "    <tr>\n",
       "      <th>8</th>\n",
       "      <td>Sanjit Engle</td>\n",
       "      <td>0.53</td>\n",
       "    </tr>\n",
       "    <tr>\n",
       "      <th>9</th>\n",
       "      <td>Christopher Conant</td>\n",
       "      <td>0.53</td>\n",
       "    </tr>\n",
       "    <tr>\n",
       "      <th>10</th>\n",
       "      <td>Todd Sumrall</td>\n",
       "      <td>0.52</td>\n",
       "    </tr>\n",
       "    <tr>\n",
       "      <th>11</th>\n",
       "      <td>Greg Tran</td>\n",
       "      <td>0.52</td>\n",
       "    </tr>\n",
       "    <tr>\n",
       "      <th>12</th>\n",
       "      <td>Becky Martin</td>\n",
       "      <td>0.51</td>\n",
       "    </tr>\n",
       "    <tr>\n",
       "      <th>13</th>\n",
       "      <td>Seth Vernon</td>\n",
       "      <td>0.50</td>\n",
       "    </tr>\n",
       "    <tr>\n",
       "      <th>14</th>\n",
       "      <td>Caroline Jumper</td>\n",
       "      <td>0.49</td>\n",
       "    </tr>\n",
       "    <tr>\n",
       "      <th>15</th>\n",
       "      <td>Clay Ludtke</td>\n",
       "      <td>0.47</td>\n",
       "    </tr>\n",
       "    <tr>\n",
       "      <th>16</th>\n",
       "      <td>Maria Etezadi</td>\n",
       "      <td>0.46</td>\n",
       "    </tr>\n",
       "    <tr>\n",
       "      <th>17</th>\n",
       "      <td>Karen Ferguson</td>\n",
       "      <td>0.46</td>\n",
       "    </tr>\n",
       "    <tr>\n",
       "      <th>18</th>\n",
       "      <td>Bill Shonely</td>\n",
       "      <td>0.46</td>\n",
       "    </tr>\n",
       "    <tr>\n",
       "      <th>19</th>\n",
       "      <td>Edward Hooks</td>\n",
       "      <td>0.45</td>\n",
       "    </tr>\n",
       "  </tbody>\n",
       "</table>\n",
       "</div>"
      ],
      "text/plain": [
       "         customer_name  percentage\n",
       "0          Sean Miller        1.09\n",
       "1         Tamara Chand        0.83\n",
       "2         Raymond Buch        0.66\n",
       "3         Tom Ashbrook        0.64\n",
       "4        Adrian Barton        0.63\n",
       "5         Sanjit Chand        0.62\n",
       "6         Ken Lonsdale        0.62\n",
       "7         Hunter Lopez        0.56\n",
       "8         Sanjit Engle        0.53\n",
       "9   Christopher Conant        0.53\n",
       "10        Todd Sumrall        0.52\n",
       "11           Greg Tran        0.52\n",
       "12        Becky Martin        0.51\n",
       "13         Seth Vernon        0.50\n",
       "14     Caroline Jumper        0.49\n",
       "15         Clay Ludtke        0.47\n",
       "16       Maria Etezadi        0.46\n",
       "17      Karen Ferguson        0.46\n",
       "18        Bill Shonely        0.46\n",
       "19        Edward Hooks        0.45"
      ]
     },
     "execution_count": 4,
     "metadata": {},
     "output_type": "execute_result"
    }
   ],
   "source": [
    "pd.read_sql(sql=\n",
    "            '''WITH sum_sales AS\n",
    "            ( SELECT SUM(sales) AS sum_sales\n",
    "            FROM sales_raw )\n",
    "            SELECT customer_name,\n",
    "            ROUND (SUM(sales) / sum_sales.sum_sales * 100, 2) AS percentage\n",
    "            FROM sales_raw,\n",
    "            sum_sales\n",
    "            GROUP BY customer_name\n",
    "            ORDER BY percentage DESC\n",
    "            LIMIT 20\n",
    "            ''', con=conn)"
   ]
  },
  {
   "cell_type": "markdown",
   "id": "d5c52c90-4e89-4333-8d64-3efaba1f21c0",
   "metadata": {},
   "source": [
    "## Top Ten State by Profit"
   ]
  },
  {
   "cell_type": "code",
   "execution_count": 6,
   "id": "925abeac-c2ee-4df6-911b-9e46382effd3",
   "metadata": {},
   "outputs": [
    {
     "data": {
      "text/html": [
       "<div>\n",
       "<style scoped>\n",
       "    .dataframe tbody tr th:only-of-type {\n",
       "        vertical-align: middle;\n",
       "    }\n",
       "\n",
       "    .dataframe tbody tr th {\n",
       "        vertical-align: top;\n",
       "    }\n",
       "\n",
       "    .dataframe thead th {\n",
       "        text-align: right;\n",
       "    }\n",
       "</style>\n",
       "<table border=\"1\" class=\"dataframe\">\n",
       "  <thead>\n",
       "    <tr style=\"text-align: right;\">\n",
       "      <th></th>\n",
       "      <th>state</th>\n",
       "      <th>sum_profit_dollar</th>\n",
       "    </tr>\n",
       "  </thead>\n",
       "  <tbody>\n",
       "    <tr>\n",
       "      <th>0</th>\n",
       "      <td>California</td>\n",
       "      <td>75466$</td>\n",
       "    </tr>\n",
       "    <tr>\n",
       "      <th>1</th>\n",
       "      <td>New York</td>\n",
       "      <td>73506$</td>\n",
       "    </tr>\n",
       "    <tr>\n",
       "      <th>2</th>\n",
       "      <td>Washington</td>\n",
       "      <td>33160$</td>\n",
       "    </tr>\n",
       "    <tr>\n",
       "      <th>3</th>\n",
       "      <td>Michigan</td>\n",
       "      <td>24334$</td>\n",
       "    </tr>\n",
       "    <tr>\n",
       "      <th>4</th>\n",
       "      <td>Virginia</td>\n",
       "      <td>18488$</td>\n",
       "    </tr>\n",
       "    <tr>\n",
       "      <th>5</th>\n",
       "      <td>Indiana</td>\n",
       "      <td>18310$</td>\n",
       "    </tr>\n",
       "    <tr>\n",
       "      <th>6</th>\n",
       "      <td>Georgia</td>\n",
       "      <td>16153$</td>\n",
       "    </tr>\n",
       "    <tr>\n",
       "      <th>7</th>\n",
       "      <td>Kentucky</td>\n",
       "      <td>11128$</td>\n",
       "    </tr>\n",
       "    <tr>\n",
       "      <th>8</th>\n",
       "      <td>Minnesota</td>\n",
       "      <td>10772$</td>\n",
       "    </tr>\n",
       "    <tr>\n",
       "      <th>9</th>\n",
       "      <td>Delaware</td>\n",
       "      <td>9927$</td>\n",
       "    </tr>\n",
       "  </tbody>\n",
       "</table>\n",
       "</div>"
      ],
      "text/plain": [
       "        state sum_profit_dollar\n",
       "0  California            75466$\n",
       "1    New York            73506$\n",
       "2  Washington            33160$\n",
       "3    Michigan            24334$\n",
       "4    Virginia            18488$\n",
       "5     Indiana            18310$\n",
       "6     Georgia            16153$\n",
       "7    Kentucky            11128$\n",
       "8   Minnesota            10772$\n",
       "9    Delaware             9927$"
      ]
     },
     "execution_count": 6,
     "metadata": {},
     "output_type": "execute_result"
    }
   ],
   "source": [
    "sum_profit_df = pd.read_sql(sql=\n",
    "            '''\n",
    "            SELECT state, (SUM(profit)) AS sum_profit\n",
    "            FROM sales_raw \n",
    "            GROUP BY state \n",
    "            ORDER BY sum_profit DESC\n",
    "            LIMIT 10\n",
    "            ''', con=conn)\n",
    "\n",
    "sum_profit_df = sum_profit_df.astype({\"sum_profit\": \"int\"})\n",
    "\n",
    "sum_profit_df[\"sum_profit_dollar\"] = sum_profit_df[\"sum_profit\"].astype(\"string\").apply(lambda x: x.split(\".\")[0] + \"$\")\n",
    "\n",
    "sum_profit_df[[\"state\", \"sum_profit_dollar\"]]"
   ]
  },
  {
   "cell_type": "code",
   "execution_count": 14,
   "id": "0a9859e5-09d5-43d8-84af-e2c5a6464410",
   "metadata": {},
   "outputs": [
    {
     "data": {
      "text/plain": [
       "<AxesSubplot:ylabel='sum_profit'>"
      ]
     },
     "execution_count": 14,
     "metadata": {},
     "output_type": "execute_result"
    },
    {
     "data": {
      "image/png": "[encoded data removed]",
      "text/plain": [
       "<Figure size 720x720 with 1 Axes>"
      ]
     },
     "metadata": {},
     "output_type": "display_data"
    }
   ],
   "source": [
    "sum_profit_df.set_index(\"state\")[\"sum_profit\"].plot(kind=\"pie\", figsize=(10,10), autopct='%.2f')"
   ]
  },
  {
   "cell_type": "code",
   "execution_count": 30,
   "id": "7221cd9e-5618-4788-a53c-e78d04a028cb",
   "metadata": {},
   "outputs": [
    {
     "data": {
      "text/plain": [
       "'asdszoveg 25.00'"
      ]
     },
     "execution_count": 30,
     "metadata": {},
     "output_type": "execute_result"
    }
   ],
   "source": [
    "template = \"asd{y} {x:.2f}\"\n",
    "template.format(x=25, y=\"szoveg\")"
   ]
  },
  {
   "cell_type": "markdown",
   "id": "aa3a641f-b744-4a8d-a0bb-35466945d075",
   "metadata": {},
   "source": [
    "## Top Ten State by Sales"
   ]
  },
  {
   "cell_type": "code",
   "execution_count": 8,
   "id": "67e3a038-b705-4755-8b4f-d685d2cb97c4",
   "metadata": {},
   "outputs": [
    {
     "data": {
      "text/html": [
       "<div>\n",
       "<style scoped>\n",
       "    .dataframe tbody tr th:only-of-type {\n",
       "        vertical-align: middle;\n",
       "    }\n",
       "\n",
       "    .dataframe tbody tr th {\n",
       "        vertical-align: top;\n",
       "    }\n",
       "\n",
       "    .dataframe thead th {\n",
       "        text-align: right;\n",
       "    }\n",
       "</style>\n",
       "<table border=\"1\" class=\"dataframe\">\n",
       "  <thead>\n",
       "    <tr style=\"text-align: right;\">\n",
       "      <th></th>\n",
       "      <th>state</th>\n",
       "      <th>sum_sales_dollar</th>\n",
       "    </tr>\n",
       "  </thead>\n",
       "  <tbody>\n",
       "    <tr>\n",
       "      <th>0</th>\n",
       "      <td>Other</td>\n",
       "      <td>706714$</td>\n",
       "    </tr>\n",
       "    <tr>\n",
       "      <th>1</th>\n",
       "      <td>California</td>\n",
       "      <td>456493$</td>\n",
       "    </tr>\n",
       "    <tr>\n",
       "      <th>2</th>\n",
       "      <td>New York</td>\n",
       "      <td>310178$</td>\n",
       "    </tr>\n",
       "    <tr>\n",
       "      <th>3</th>\n",
       "      <td>Texas</td>\n",
       "      <td>169646$</td>\n",
       "    </tr>\n",
       "    <tr>\n",
       "      <th>4</th>\n",
       "      <td>Washington</td>\n",
       "      <td>138332$</td>\n",
       "    </tr>\n",
       "    <tr>\n",
       "      <th>5</th>\n",
       "      <td>Pennsylvania</td>\n",
       "      <td>116181$</td>\n",
       "    </tr>\n",
       "    <tr>\n",
       "      <th>6</th>\n",
       "      <td>Florida</td>\n",
       "      <td>89262$</td>\n",
       "    </tr>\n",
       "    <tr>\n",
       "      <th>7</th>\n",
       "      <td>Illinois</td>\n",
       "      <td>79901$</td>\n",
       "    </tr>\n",
       "    <tr>\n",
       "      <th>8</th>\n",
       "      <td>Ohio</td>\n",
       "      <td>77998$</td>\n",
       "    </tr>\n",
       "    <tr>\n",
       "      <th>9</th>\n",
       "      <td>Michigan</td>\n",
       "      <td>76099$</td>\n",
       "    </tr>\n",
       "    <tr>\n",
       "      <th>10</th>\n",
       "      <td>Virginia</td>\n",
       "      <td>70500$</td>\n",
       "    </tr>\n",
       "  </tbody>\n",
       "</table>\n",
       "</div>"
      ],
      "text/plain": [
       "           state sum_sales_dollar\n",
       "0          Other          706714$\n",
       "1     California          456493$\n",
       "2       New York          310178$\n",
       "3          Texas          169646$\n",
       "4     Washington          138332$\n",
       "5   Pennsylvania          116181$\n",
       "6        Florida           89262$\n",
       "7       Illinois           79901$\n",
       "8           Ohio           77998$\n",
       "9       Michigan           76099$\n",
       "10      Virginia           70500$"
      ]
     },
     "execution_count": 8,
     "metadata": {},
     "output_type": "execute_result"
    }
   ],
   "source": [
    "sum_sales_df = pd.read_sql(sql=\n",
    "'''\n",
    "WITH top_states AS (\n",
    "    SELECT state\n",
    "    FROM sales_raw\n",
    "    GROUP BY state\n",
    "    ORDER BY SUM(sales)\n",
    "    DESC LIMIT 10\n",
    ")\n",
    "SELECT \n",
    "    IFNULL(t.state, 'Other') AS state,\n",
    "    SUM(r.sales) AS sum_sales\n",
    "FROM sales_raw r\n",
    "LEFT JOIN top_states t ON (t.state = r.state)\n",
    "GROUP BY t.state\n",
    "ORDER BY sum_sales DESC\n",
    "''', con=conn)\n",
    "\n",
    "sum_sales_df = sum_sales_df.astype({\"sum_sales\": \"int\"})\n",
    "\n",
    "sum_sales_df[\"sum_sales_dollar\"] = sum_sales_df[\"sum_sales\"].astype(\"string\").apply(lambda x: x.split(\".\")[0] + \"$\")\n",
    "\n",
    "sum_sales_df[[\"state\", \"sum_sales_dollar\"]]"
   ]
  },
  {
   "cell_type": "code",
   "execution_count": 46,
   "id": "9569f154-e5d7-4152-b4f4-6d347005da9f",
   "metadata": {},
   "outputs": [
    {
     "data": {
      "text/plain": [
       "<AxesSubplot:ylabel='sum_sales'>"
      ]
     },
     "execution_count": 46,
     "metadata": {},
     "output_type": "execute_result"
    },
    {
     "data": {
      "image/png": "[encoded data removed]",
      "text/plain": [
       "<Figure size 720x720 with 1 Axes>"
      ]
     },
     "metadata": {},
     "output_type": "display_data"
    }
   ],
   "source": [
    "sum_sales_all = sum_sales_df[\"sum_sales\"]\n",
    "\n",
    "sum_sales_df.set_index(\"state\")[\"sum_sales\"].plot(kind=\"pie\", figsize=(10,10), autopct='%.2f')"
   ]
  }
 ],
 "metadata": {
  "kernelspec": {
   "display_name": "Python 3 (ipykernel)",
   "language": "python",
   "name": "python3"
  },
  "language_info": {
   "codemirror_mode": {
    "name": "ipython",
    "version": 3
   },
   "file_extension": ".py",
   "mimetype": "text/x-python",
   "name": "python",
   "nbconvert_exporter": "python",
   "pygments_lexer": "ipython3",
   "version": "3.10.0"
  }
 },
 "nbformat": 4,
 "nbformat_minor": 5
}
